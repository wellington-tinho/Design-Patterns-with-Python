{
 "cells": [
  {
   "cell_type": "markdown",
   "metadata": {
    "colab_type": "text",
    "id": "TN0z-wAP_vFa"
   },
   "source": [
    "### Use https://colab.research.google.com/ para importar o (cod)."
   ]
  },
  {
   "cell_type": "markdown",
   "metadata": {
    "colab_type": "text",
    "id": "zLk0-V9tAKnz"
   },
   "source": [
    "- Exemplo é claro, imagine 2 pessoas uma normal e uma x9 (igual 2 irmãos).\n",
    "- A pessoa normal tem 2 funções, modificar o estado do dinheiro, e fazer compras\n",
    "- A x9 tem uma Avisar para Mãe (printar na tela) toda vez que, a Pessoa executar uma de suas funções"
   ]
  },
  {
   "cell_type": "code",
   "execution_count": 0,
   "metadata": {
    "colab": {},
    "colab_type": "code",
    "id": "aeftTVl4_pYW"
   },
   "outputs": [],
   "source": [
    "class Pessoa():\n",
    "    def __init__(self,dinheiro):\n",
    "        self.__dinheiro=dinheiro\n",
    "        self.__compras=[]\n",
    "        self.observers=[]\n",
    "    \n",
    "    @property\n",
    "    def dinheiro(self):\n",
    "        return self.__dinheiro\n",
    "\n",
    "    @dinheiro.setter\n",
    "    def dinheiro(self,valor):\n",
    "        self.__dinheiro += valor\n",
    "        self.update_observer()\n",
    "    \n",
    "    @property\n",
    "    def compras(self):\n",
    "        return self.__compras\n",
    "\n",
    "    @compras.setter\n",
    "    def compras(self,valor):\n",
    "        self.__compras.append(valor)\n",
    "        self.update_observer()\n",
    "\n",
    "    def update_observer(self):\n",
    "        for observer in self.observers:\n",
    "            observer() #mesma coisa que observer.__call__(), obs esse metodo esta na outra classe\n",
    "\n",
    "    def attach(self,espiao):\n",
    "        self.observers.append(espiao)\n",
    "\n",
    "class x9():\n",
    "    def __init__(self,espionado):\n",
    "        espionado.attach(self) #linkagem das classes, X9 vai ficar de olho na espionada, obs: este será adicionado na lista observers\n",
    "        self.espionado = espionado\n",
    "    def __call__(self):\n",
    "        print('to de olho, vou contar para minha mãe que agora')\n",
    "        print(f'dinheiro = {self.espionado.dinheiro}')\n",
    "        print(f'compras = {self.espionado.compras}')\n"
   ]
  },
  {
   "cell_type": "markdown",
   "metadata": {
    "colab_type": "text",
    "id": "SvgI4s6h_f30"
   },
   "source": [
    "### Hora dos testes\n",
    "- Vamos criar o objeto da pessoa "
   ]
  },
  {
   "cell_type": "code",
   "execution_count": 0,
   "metadata": {
    "colab": {},
    "colab_type": "code",
    "id": "QmFjTUkwBbF2"
   },
   "outputs": [],
   "source": [
    "irmão_normal = Pessoa(100) #criar o menino com 100 reais"
   ]
  },
  {
   "cell_type": "code",
   "execution_count": 12,
   "metadata": {
    "colab": {
     "base_uri": "https://localhost:8080/",
     "height": 34
    },
    "colab_type": "code",
    "id": "J0Z-yI1bBlFA",
    "outputId": "8e270355-2610-493c-a761-fc4ea75abfe8"
   },
   "outputs": [
    {
     "data": {
      "text/plain": [
       "100"
      ]
     },
     "execution_count": 12,
     "metadata": {
      "tags": []
     },
     "output_type": "execute_result"
    }
   ],
   "source": [
    "irmão_normal.dinheiro"
   ]
  },
  {
   "cell_type": "code",
   "execution_count": 0,
   "metadata": {
    "colab": {},
    "colab_type": "code",
    "id": "uRuP830MBro2"
   },
   "outputs": [],
   "source": [
    "irmão_normal.dinheiro=-20"
   ]
  },
  {
   "cell_type": "code",
   "execution_count": 14,
   "metadata": {
    "colab": {
     "base_uri": "https://localhost:8080/",
     "height": 34
    },
    "colab_type": "code",
    "id": "gQodOg9dBwrE",
    "outputId": "d49aae1e-eed0-40cc-e80b-64fd249a92be"
   },
   "outputs": [
    {
     "data": {
      "text/plain": [
       "80"
      ]
     },
     "execution_count": 14,
     "metadata": {
      "tags": []
     },
     "output_type": "execute_result"
    }
   ],
   "source": [
    "irmão_normal.dinheiro"
   ]
  },
  {
   "cell_type": "markdown",
   "metadata": {
    "colab_type": "text",
    "id": "0XniqomDB6kc"
   },
   "source": [
    "- Ok quase lá, como notamos, fizemos os seguintes passos:\n",
    "> Chamamos o get_dinheiro do irmão mostrando o dinheiro\n",
    ">\n",
    "> (Modificamos) o dinheiro \n",
    ">\n",
    "> Depois mostramos novamente \n",
    "\n",
    " \n",
    "- Como eu disse em cima, toda vez que tiver uma alteração em pessoa o x9 precisa printar na tela. \n",
    "\n",
    "- Para fazer isto é simples\n",
    "- É criado o objeto do 'x9' \n",
    "- sendo que este objeto irá receber por parametro o objeto pessoa para assim seja feita a linkagem dos 2 por meio do metodo attach"
   ]
  },
  {
   "cell_type": "code",
   "execution_count": 0,
   "metadata": {
    "colab": {},
    "colab_type": "code",
    "id": "UMyFiVezE-f0"
   },
   "outputs": [],
   "source": [
    "irmão_fofoqueiro=x9(irmão_normal) "
   ]
  },
  {
   "cell_type": "code",
   "execution_count": 16,
   "metadata": {
    "colab": {
     "base_uri": "https://localhost:8080/",
     "height": 69
    },
    "colab_type": "code",
    "id": "1SLYRFzgFS2R",
    "outputId": "df41ad55-20b2-4ac3-f273-145793cc9bde"
   },
   "outputs": [
    {
     "name": "stdout",
     "output_type": "stream",
     "text": [
      "to de olho, vou contar para minha mãe que agora\n",
      "dinheiro = 1080\n",
      "compras = []\n"
     ]
    }
   ],
   "source": [
    "##Agora sempre que houver uma alteração no outro irmão; esta sera a saida\n",
    "irmão_normal.dinheiro=1000 \n"
   ]
  },
  {
   "cell_type": "code",
   "execution_count": 17,
   "metadata": {
    "colab": {
     "base_uri": "https://localhost:8080/",
     "height": 69
    },
    "colab_type": "code",
    "id": "IHduqlI5FvlZ",
    "outputId": "67f952a6-ae9e-42fc-cb49-433e4b5f1057"
   },
   "outputs": [
    {
     "name": "stdout",
     "output_type": "stream",
     "text": [
      "to de olho, vou contar para minha mãe que agora\n",
      "dinheiro = 1080\n",
      "compras = ['notebook']\n"
     ]
    }
   ],
   "source": [
    "irmão_normal.compras='notebook'"
   ]
  },
  {
   "cell_type": "markdown",
   "metadata": {
    "colab_type": "text",
    "id": "DITXIjX8F9Ze"
   },
   "source": [
    "## that's all, folks"
   ]
  }
 ],
 "metadata": {
  "colab": {
   "collapsed_sections": [],
   "name": "Observer_par1.ipynb",
   "provenance": []
  },
  "kernelspec": {
   "display_name": "Python 3",
   "language": "python",
   "name": "python3"
  },
  "language_info": {
   "codemirror_mode": {
    "name": "ipython",
    "version": 3
   },
   "file_extension": ".py",
   "mimetype": "text/x-python",
   "name": "python",
   "nbconvert_exporter": "python",
   "pygments_lexer": "ipython3",
   "version": "3.7.3"
  }
 },
 "nbformat": 4,
 "nbformat_minor": 1
}
