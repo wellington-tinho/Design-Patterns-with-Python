{
  "nbformat": 4,
  "nbformat_minor": 0,
  "metadata": {
    "colab": {
      "name": "Observer_par1.ipynb",
      "provenance": [],
      "collapsed_sections": []
    },
    "kernelspec": {
      "name": "python3",
      "display_name": "Python 3"
    }
  },
  "cells": [
    {
      "cell_type": "markdown",
      "metadata": {
        "id": "TN0z-wAP_vFa",
        "colab_type": "text"
      },
      "source": [
        "### Use https://colab.research.google.com/ para importar o (cod)."
      ]
    },
    {
      "cell_type": "markdown",
      "metadata": {
        "id": "zLk0-V9tAKnz",
        "colab_type": "text"
      },
      "source": [
        "- Exemplo é claro, imagine 2 pessoas uma normal e uma x9 (igual 2 irmãos).\n",
        "- A pessoa normal tem 2 funções, modificar o estado do dinheiro, e fazer compras\n",
        "- A x9 tem uma Avisar para Mãe (printar na tela) toda vez que, a Pessoa executar uma de suas funções"
      ]
    },
    {
      "cell_type": "code",
      "metadata": {
        "id": "aeftTVl4_pYW",
        "colab_type": "code",
        "colab": {}
      },
      "source": [
        "class Pessoa():\n",
        "    def __init__(self,dinheiro):\n",
        "        self.__dinheiro=dinheiro\n",
        "        self.__compras=[]\n",
        "        self.observers=[]\n",
        "    \n",
        "    @property\n",
        "    def dinheiro(self):\n",
        "        return self.__dinheiro\n",
        "\n",
        "    @dinheiro.setter\n",
        "    def dinheiro(self,valor):\n",
        "        self.__dinheiro += valor\n",
        "        self.update_observer()\n",
        "    \n",
        "    @property\n",
        "    def compras(self):\n",
        "        return self.__compras\n",
        "\n",
        "    @compras.setter\n",
        "    def compras(self,valor):\n",
        "        self.__compras.append(valor)\n",
        "        self.update_observer()\n",
        "\n",
        "    def update_observer(self):\n",
        "        for observer in self.observers:\n",
        "            observer() #mesma coisa que observer.__call__(), obs esse metodo esta na outra classe\n",
        "\n",
        "    def attach(self,espiao):\n",
        "        self.observers.append(espiao)\n",
        "\n",
        "class x9():\n",
        "    def __init__(self,espionado):\n",
        "        espionado.attach(self) #linkagem das classes, X9 vai ficar de olho na espionada, obs: este será adicionado na lista observers\n",
        "        self.espionado = espionado\n",
        "    def __call__(self):\n",
        "        print('to de olho, vou contar para minha mãe que agora')\n",
        "        print(f'dinheiro = {self.espionado.dinheiro}')\n",
        "        print(f'compras = {self.espionado.compras}')\n"
      ],
      "execution_count": 0,
      "outputs": []
    },
    {
      "cell_type": "markdown",
      "metadata": {
        "id": "SvgI4s6h_f30",
        "colab_type": "text"
      },
      "source": [
        "### Hora dos testes\n",
        "- Vamos criar o objeto da pessoa "
      ]
    },
    {
      "cell_type": "code",
      "metadata": {
        "id": "QmFjTUkwBbF2",
        "colab_type": "code",
        "colab": {}
      },
      "source": [
        "irmão_normal = Pessoa(100) #criar o menino com 100 reais"
      ],
      "execution_count": 0,
      "outputs": []
    },
    {
      "cell_type": "code",
      "metadata": {
        "id": "J0Z-yI1bBlFA",
        "colab_type": "code",
        "colab": {
          "base_uri": "https://localhost:8080/",
          "height": 34
        },
        "outputId": "8e270355-2610-493c-a761-fc4ea75abfe8"
      },
      "source": [
        "irmão_normal.dinheiro"
      ],
      "execution_count": 12,
      "outputs": [
        {
          "output_type": "execute_result",
          "data": {
            "text/plain": [
              "100"
            ]
          },
          "metadata": {
            "tags": []
          },
          "execution_count": 12
        }
      ]
    },
    {
      "cell_type": "code",
      "metadata": {
        "id": "uRuP830MBro2",
        "colab_type": "code",
        "colab": {}
      },
      "source": [
        "irmão_normal.dinheiro=-20"
      ],
      "execution_count": 0,
      "outputs": []
    },
    {
      "cell_type": "code",
      "metadata": {
        "id": "gQodOg9dBwrE",
        "colab_type": "code",
        "colab": {
          "base_uri": "https://localhost:8080/",
          "height": 34
        },
        "outputId": "d49aae1e-eed0-40cc-e80b-64fd249a92be"
      },
      "source": [
        "irmão_normal.dinheiro"
      ],
      "execution_count": 14,
      "outputs": [
        {
          "output_type": "execute_result",
          "data": {
            "text/plain": [
              "80"
            ]
          },
          "metadata": {
            "tags": []
          },
          "execution_count": 14
        }
      ]
    },
    {
      "cell_type": "markdown",
      "metadata": {
        "id": "0XniqomDB6kc",
        "colab_type": "text"
      },
      "source": [
        "- Ok quase lá, como notamos, fizemos os seguintes passos:\n",
        "> Chamamos o get_dinheiro do irmão mostrando o dinheiro\n",
        ">\n",
        "> (Modificamos) o dinheiro \n",
        ">\n",
        "> Depois mostramos novamente \n",
        "\n",
        " \n",
        "- Como eu disse em cima, toda vez que tiver uma alteração em pessoa o x9 precisa printar na tela. \n",
        "\n",
        "- Para fazer isto é simples\n",
        "- É criado o objeto do 'x9' \n",
        "- sendo que este objeto irá receber por parametro o objeto pessoa para assim seja feita a linkagem dos 2 por meio do metodo attach"
      ]
    },
    {
      "cell_type": "code",
      "metadata": {
        "id": "UMyFiVezE-f0",
        "colab_type": "code",
        "colab": {}
      },
      "source": [
        "irmão_fofoqueiro=x9(irmão_normal) "
      ],
      "execution_count": 0,
      "outputs": []
    },
    {
      "cell_type": "code",
      "metadata": {
        "id": "1SLYRFzgFS2R",
        "colab_type": "code",
        "colab": {
          "base_uri": "https://localhost:8080/",
          "height": 69
        },
        "outputId": "df41ad55-20b2-4ac3-f273-145793cc9bde"
      },
      "source": [
        "##Agora sempre que houver uma alteração no outro irmão; esta sera a saida\n",
        "irmão_normal.dinheiro=1000 \n"
      ],
      "execution_count": 16,
      "outputs": [
        {
          "output_type": "stream",
          "text": [
            "to de olho, vou contar para minha mãe que agora\n",
            "dinheiro = 1080\n",
            "compras = []\n"
          ],
          "name": "stdout"
        }
      ]
    },
    {
      "cell_type": "code",
      "metadata": {
        "id": "IHduqlI5FvlZ",
        "colab_type": "code",
        "colab": {
          "base_uri": "https://localhost:8080/",
          "height": 69
        },
        "outputId": "67f952a6-ae9e-42fc-cb49-433e4b5f1057"
      },
      "source": [
        "irmão_normal.compras='notebook'"
      ],
      "execution_count": 17,
      "outputs": [
        {
          "output_type": "stream",
          "text": [
            "to de olho, vou contar para minha mãe que agora\n",
            "dinheiro = 1080\n",
            "compras = ['notebook']\n"
          ],
          "name": "stdout"
        }
      ]
    },
    {
      "cell_type": "markdown",
      "metadata": {
        "id": "DITXIjX8F9Ze",
        "colab_type": "text"
      },
      "source": [
        "## that's all, folks"
      ]
    }
  ]
}