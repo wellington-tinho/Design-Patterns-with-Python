{
 "cells": [
  {
   "cell_type": "markdown",
   "metadata": {},
   "source": [
    "#### Use https://colab.research.google.com/ para importar o cod."
   ]
  },
  {
   "cell_type": "code",
   "execution_count": 1,
   "metadata": {},
   "outputs": [],
   "source": [
    "from functools import wraps\n",
    "\n",
    "\n",
    "cachorro_quente=5\n",
    "coca_cola=4\n",
    "batata_frita = 3\n",
    "hamburguer=4.5\n",
    "\n",
    "    \n",
    "def hamburguer_deco(original_funcao):\n",
    "    @wraps(original_funcao)\n",
    "    def wraper(*args,**kargs):\n",
    "        print(\"Adicinando hamburguer ao carrinho\")\n",
    "        return original_funcao(*args,*kargs)+hamburguer\n",
    "    return wraper\n",
    "    \n",
    "def batata_deco(original_funcao):\n",
    "    @wraps(original_funcao)\n",
    "    def wraper(*args,**kargs):\n",
    "        print(\"Adicinando batata frita ao carrinho\")\n",
    "        return original_funcao(*args,*kargs)+batata_frita\n",
    "    return wraper\n",
    "\n",
    "def cachorro_deco(original_funcao):\n",
    "    @wraps(original_funcao)\n",
    "    def wraper(*args,**kargs):\n",
    "        print(\"Adicinando cachorro quente ao carrinho\")\n",
    "        return original_funcao(*args,*kargs)+cachorro_quente\n",
    "    return wraper\n",
    "\n",
    "def coca_deco(original_funcao):\n",
    "    @wraps(original_funcao)\n",
    "    def wraper(*args,**kargs):\n",
    "        print(\"Adicinando coca ao carrinho\")\n",
    "        return original_funcao(*args,*kargs)+coca_cola\n",
    "    return wraper"
   ]
  },
  {
   "cell_type": "code",
   "execution_count": 2,
   "metadata": {},
   "outputs": [
    {
     "name": "stdout",
     "output_type": "stream",
     "text": [
      "\n",
      "        Selecione a opção correspodente\n",
      "        1 - Cachorro quente\n",
      "        2 - Coca cola\n",
      "        3 - Batata frita\n",
      "        4 - Hamburguer\n",
      "        0 - Sair\n",
      "    1\n",
      "\n",
      "        Selecione a opção correspodente\n",
      "        1 - Cachorro quente\n",
      "        2 - Coca cola\n",
      "        3 - Batata frita\n",
      "        4 - Hamburguer\n",
      "        0 - Sair\n",
      "    2\n",
      "\n",
      "        Selecione a opção correspodente\n",
      "        1 - Cachorro quente\n",
      "        2 - Coca cola\n",
      "        3 - Batata frita\n",
      "        4 - Hamburguer\n",
      "        0 - Sair\n",
      "    2\n",
      "\n",
      "        Selecione a opção correspodente\n",
      "        1 - Cachorro quente\n",
      "        2 - Coca cola\n",
      "        3 - Batata frita\n",
      "        4 - Hamburguer\n",
      "        0 - Sair\n",
      "    4\n",
      "\n",
      "        Selecione a opção correspodente\n",
      "        1 - Cachorro quente\n",
      "        2 - Coca cola\n",
      "        3 - Batata frita\n",
      "        4 - Hamburguer\n",
      "        0 - Sair\n",
      "    0\n"
     ]
    }
   ],
   "source": [
    "def pegar_carrinho():\n",
    "    print(\"O valor das compras\")\n",
    "    return 0\n",
    "\n",
    "funcao=\"\"\"\n",
    "def carrinho():\n",
    "    return pegar_carrinho()\n",
    "\"\"\"\n",
    "\n",
    "d={0:'',1:'@cachorro_deco\\n',2:'@coca_deco\\n',3:'@batata_deco\\n',4:'@hamburguer_deco\\n'}\n",
    "decoradores=[]\n",
    "\n",
    "while True:\n",
    "    menu=\"\"\"\n",
    "        Selecione a opção correspodente\n",
    "        1 - Cachorro quente\n",
    "        2 - Coca cola\n",
    "        3 - Batata frita\n",
    "        4 - Hamburguer\n",
    "        0 - Sair\n",
    "    \"\"\"\n",
    "    opc = int(input(menu))\n",
    "    \n",
    "    if 0<opc<5:\n",
    "        decoradores.append(d[opc])\n",
    "    else:\n",
    "        break"
   ]
  },
  {
   "cell_type": "code",
   "execution_count": 3,
   "metadata": {},
   "outputs": [],
   "source": [
    "code= ''.join(decoradores)+funcao"
   ]
  },
  {
   "cell_type": "code",
   "execution_count": 4,
   "metadata": {},
   "outputs": [
    {
     "name": "stdout",
     "output_type": "stream",
     "text": [
      "Adicinando cachorro quente ao carrinho\n",
      "Adicinando coca ao carrinho\n",
      "Adicinando coca ao carrinho\n",
      "Adicinando hamburguer ao carrinho\n",
      "O valor das compras\n",
      "17.5\n"
     ]
    }
   ],
   "source": [
    "\n",
    "exec(code)\n",
    "\n",
    "a = carrinho()\n",
    "print(a)"
   ]
  },
  {
   "cell_type": "code",
   "execution_count": null,
   "metadata": {},
   "outputs": [],
   "source": []
  }
 ],
 "metadata": {
  "kernelspec": {
   "display_name": "Python 3",
   "language": "python",
   "name": "python3"
  },
  "language_info": {
   "codemirror_mode": {
    "name": "ipython",
    "version": 3
   },
   "file_extension": ".py",
   "mimetype": "text/x-python",
   "name": "python",
   "nbconvert_exporter": "python",
   "pygments_lexer": "ipython3",
   "version": "3.7.3"
  }
 },
 "nbformat": 4,
 "nbformat_minor": 2
}
