{
 "cells": [
  {
   "cell_type": "markdown",
   "metadata": {},
   "source": [
    "#### Use https://colab.research.google.com/ para importar o cod."
   ]
  },
  {
   "cell_type": "code",
   "execution_count": 38,
   "metadata": {},
   "outputs": [],
   "source": [
    "\n",
    "from functools import wraps\n",
    "\n",
    "\n",
    "cachorro_quente=5\n",
    "coca_cola=4\n",
    "batata_frita = 3\n",
    "hamburguer=4.5\n",
    "\n",
    "    \n",
    "def hamburguer_deco(original_funcao):\n",
    "    @wraps(original_funcao)\n",
    "    def wraper(*args,**kargs):\n",
    "        print(\"Adicinando hamburguer ao carrinho\")\n",
    "        return original_funcao(*args,*kargs)+hamburguer\n",
    "    return wraper\n",
    "    \n",
    "def batata_deco(original_funcao):\n",
    "    @wraps(original_funcao)\n",
    "    def wraper(*args,**kargs):\n",
    "        print(\"Adicinando batata frita ao carrinho\")\n",
    "        return original_funcao(*args,*kargs)+batata_frita\n",
    "    return wraper\n",
    "\n",
    "def cachorro_deco(original_funcao):\n",
    "    @wraps(original_funcao)\n",
    "    def wraper(*args,**kargs):\n",
    "        print(\"Adicinando cachorro quente ao carrinho\")\n",
    "        return original_funcao(*args,*kargs)+cachorro_quente\n",
    "    return wraper\n",
    "\n",
    "def coca_deco(original_funcao):\n",
    "    @wraps(original_funcao)\n",
    "    def wraper(*args,**kargs):\n",
    "        print(\"Adicinando coca ao carrinho\")\n",
    "        return original_funcao(*args,*kargs)+coca_cola\n",
    "    return wraper"
   ]
  },
  {
   "cell_type": "code",
   "execution_count": 47,
   "metadata": {},
   "outputs": [
    {
     "name": "stdout",
     "output_type": "stream",
     "text": [
      "Adicinando coca ao carrinho\n",
      "Adicinando batata frita ao carrinho\n",
      "O valor das compras\n"
     ]
    },
    {
     "data": {
      "text/plain": [
       "7"
      ]
     },
     "execution_count": 47,
     "metadata": {},
     "output_type": "execute_result"
    }
   ],
   "source": [
    "def pegar_carrinho():\n",
    "    print(\"O valor das compras\")\n",
    "    return 0\n",
    "\n",
    "@coca_deco\n",
    "@batata_deco\n",
    "def carrinho1():\n",
    "    return pegar_carrinho()\n",
    "\n",
    "@coca_deco\n",
    "@batata_deco\n",
    "@cachorro_deco\n",
    "@hamburguer_deco\n",
    "def carrinho2():\n",
    "    return pegar_carrinho()\n",
    "\n"
   ]
  },
  {
   "cell_type": "code",
   "execution_count": 48,
   "metadata": {},
   "outputs": [
    {
     "name": "stdout",
     "output_type": "stream",
     "text": [
      "Adicinando coca ao carrinho\n",
      "Adicinando batata frita ao carrinho\n",
      "O valor das compras\n"
     ]
    },
    {
     "data": {
      "text/plain": [
       "7"
      ]
     },
     "execution_count": 48,
     "metadata": {},
     "output_type": "execute_result"
    }
   ],
   "source": [
    "carrinho1()"
   ]
  },
  {
   "cell_type": "code",
   "execution_count": 49,
   "metadata": {
    "scrolled": true
   },
   "outputs": [
    {
     "name": "stdout",
     "output_type": "stream",
     "text": [
      "Adicinando coca ao carrinho\n",
      "Adicinando batata frita ao carrinho\n",
      "Adicinando cachorro quente ao carrinho\n",
      "Adicinando hamburguer ao carrinho\n",
      "O valor das compras\n"
     ]
    },
    {
     "data": {
      "text/plain": [
       "16.5"
      ]
     },
     "execution_count": 49,
     "metadata": {},
     "output_type": "execute_result"
    }
   ],
   "source": [
    "carrinho2()"
   ]
  }
 ],
 "metadata": {
  "kernelspec": {
   "display_name": "Python 3",
   "language": "python",
   "name": "python3"
  },
  "language_info": {
   "codemirror_mode": {
    "name": "ipython",
    "version": 3
   },
   "file_extension": ".py",
   "mimetype": "text/x-python",
   "name": "python",
   "nbconvert_exporter": "python",
   "pygments_lexer": "ipython3",
   "version": "3.7.3"
  }
 },
 "nbformat": 4,
 "nbformat_minor": 2
}
